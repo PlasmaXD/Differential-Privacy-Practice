{
 "cells": [
  {
   "cell_type": "code",
   "id": "initial_id",
   "metadata": {
    "collapsed": true,
    "ExecuteTime": {
     "end_time": "2024-06-05T19:47:04.122309Z",
     "start_time": "2024-06-05T19:47:04.073596Z"
    }
   },
   "source": [
    "# 必要なライブラリのインポート\n",
    "import pandas as pd\n",
    "\n",
    "# データの読み込み\n",
    "file_path = './data/pn.tsv'\n",
    "\n",
    "data = pd.read_csv(file_path, sep='\\t', header=None)\n",
    "\n",
    "# カラム名の設定\n",
    "data.columns = ['ID', 'Label', 'Text', 'Judges', 'Usage']\n",
    "\n",
    "# データの確認\n",
    "data.head()\n"
   ],
   "outputs": [
    {
     "data": {
      "text/plain": [
       "           ID  Label                Text            Judges Usage\n",
       "0  pn17q00001      0       出張でお世話になりました。          {\"0\": 3}  test\n",
       "1  pn17q00002      0           朝食は普通でした。          {\"0\": 3}  test\n",
       "2  pn17q00003      1         また是非行きたいです。          {\"1\": 3}  test\n",
       "3  pn17q00004      1  また利用したいと思えるホテルでした。          {\"1\": 3}  test\n",
       "4  pn17q00005      1        駅から近くて便利でした。  {\"0\": 1, \"1\": 2}  test"
      ],
      "text/html": [
       "<div>\n",
       "<style scoped>\n",
       "    .dataframe tbody tr th:only-of-type {\n",
       "        vertical-align: middle;\n",
       "    }\n",
       "\n",
       "    .dataframe tbody tr th {\n",
       "        vertical-align: top;\n",
       "    }\n",
       "\n",
       "    .dataframe thead th {\n",
       "        text-align: right;\n",
       "    }\n",
       "</style>\n",
       "<table border=\"1\" class=\"dataframe\">\n",
       "  <thead>\n",
       "    <tr style=\"text-align: right;\">\n",
       "      <th></th>\n",
       "      <th>ID</th>\n",
       "      <th>Label</th>\n",
       "      <th>Text</th>\n",
       "      <th>Judges</th>\n",
       "      <th>Usage</th>\n",
       "    </tr>\n",
       "  </thead>\n",
       "  <tbody>\n",
       "    <tr>\n",
       "      <th>0</th>\n",
       "      <td>pn17q00001</td>\n",
       "      <td>0</td>\n",
       "      <td>出張でお世話になりました。</td>\n",
       "      <td>{\"0\": 3}</td>\n",
       "      <td>test</td>\n",
       "    </tr>\n",
       "    <tr>\n",
       "      <th>1</th>\n",
       "      <td>pn17q00002</td>\n",
       "      <td>0</td>\n",
       "      <td>朝食は普通でした。</td>\n",
       "      <td>{\"0\": 3}</td>\n",
       "      <td>test</td>\n",
       "    </tr>\n",
       "    <tr>\n",
       "      <th>2</th>\n",
       "      <td>pn17q00003</td>\n",
       "      <td>1</td>\n",
       "      <td>また是非行きたいです。</td>\n",
       "      <td>{\"1\": 3}</td>\n",
       "      <td>test</td>\n",
       "    </tr>\n",
       "    <tr>\n",
       "      <th>3</th>\n",
       "      <td>pn17q00004</td>\n",
       "      <td>1</td>\n",
       "      <td>また利用したいと思えるホテルでした。</td>\n",
       "      <td>{\"1\": 3}</td>\n",
       "      <td>test</td>\n",
       "    </tr>\n",
       "    <tr>\n",
       "      <th>4</th>\n",
       "      <td>pn17q00005</td>\n",
       "      <td>1</td>\n",
       "      <td>駅から近くて便利でした。</td>\n",
       "      <td>{\"0\": 1, \"1\": 2}</td>\n",
       "      <td>test</td>\n",
       "    </tr>\n",
       "  </tbody>\n",
       "</table>\n",
       "</div>"
      ]
     },
     "execution_count": 7,
     "metadata": {},
     "output_type": "execute_result"
    }
   ],
   "execution_count": 7
  },
  {
   "metadata": {
    "ExecuteTime": {
     "end_time": "2024-06-05T19:47:46.201297Z",
     "start_time": "2024-06-05T19:47:46.170492Z"
    }
   },
   "cell_type": "code",
   "source": [
    "data = pd.read_csv('./data/pn.tsv', sep='\\t', header=None)\n",
    "file_path = './data/pn.tsv'\n",
    "\n",
    "# Assigning column names to match the provided format\n",
    "data.columns = ['ID', 'Label', 'Text', 'Judges', 'Usage']\n",
    "\n",
    "# Create a new DataFrame with only the required columns and rename them accordingly\n",
    "converted_data = data[['Text', 'Label']].copy()\n",
    "converted_data.columns = ['review', 'sentiment']\n",
    "\n",
    "# Map the sentiment labels to text format\n",
    "label_mapping = {1: 'positive', 0: 'neutral', -1: 'negative'}\n",
    "converted_data['sentiment'] = converted_data['sentiment'].map(label_mapping)\n",
    "\n",
    "# Save the DataFrame to a CSV file\n",
    "output_path = './data/reviews_with_sentiment.csv'\n",
    "converted_data.to_csv(output_path, index=False)\n",
    "\n",
    "# Display the first few rows of the converted data to confirm\n",
    "converted_data.head()\n"
   ],
   "id": "34abbb5e3a6bacfb",
   "outputs": [
    {
     "data": {
      "text/plain": [
       "               review sentiment\n",
       "0       出張でお世話になりました。   neutral\n",
       "1           朝食は普通でした。   neutral\n",
       "2         また是非行きたいです。  positive\n",
       "3  また利用したいと思えるホテルでした。  positive\n",
       "4        駅から近くて便利でした。  positive"
      ],
      "text/html": [
       "<div>\n",
       "<style scoped>\n",
       "    .dataframe tbody tr th:only-of-type {\n",
       "        vertical-align: middle;\n",
       "    }\n",
       "\n",
       "    .dataframe tbody tr th {\n",
       "        vertical-align: top;\n",
       "    }\n",
       "\n",
       "    .dataframe thead th {\n",
       "        text-align: right;\n",
       "    }\n",
       "</style>\n",
       "<table border=\"1\" class=\"dataframe\">\n",
       "  <thead>\n",
       "    <tr style=\"text-align: right;\">\n",
       "      <th></th>\n",
       "      <th>review</th>\n",
       "      <th>sentiment</th>\n",
       "    </tr>\n",
       "  </thead>\n",
       "  <tbody>\n",
       "    <tr>\n",
       "      <th>0</th>\n",
       "      <td>出張でお世話になりました。</td>\n",
       "      <td>neutral</td>\n",
       "    </tr>\n",
       "    <tr>\n",
       "      <th>1</th>\n",
       "      <td>朝食は普通でした。</td>\n",
       "      <td>neutral</td>\n",
       "    </tr>\n",
       "    <tr>\n",
       "      <th>2</th>\n",
       "      <td>また是非行きたいです。</td>\n",
       "      <td>positive</td>\n",
       "    </tr>\n",
       "    <tr>\n",
       "      <th>3</th>\n",
       "      <td>また利用したいと思えるホテルでした。</td>\n",
       "      <td>positive</td>\n",
       "    </tr>\n",
       "    <tr>\n",
       "      <th>4</th>\n",
       "      <td>駅から近くて便利でした。</td>\n",
       "      <td>positive</td>\n",
       "    </tr>\n",
       "  </tbody>\n",
       "</table>\n",
       "</div>"
      ]
     },
     "execution_count": 9,
     "metadata": {},
     "output_type": "execute_result"
    }
   ],
   "execution_count": 9
  },
  {
   "metadata": {
    "ExecuteTime": {
     "end_time": "2024-06-05T19:47:04.150742Z",
     "start_time": "2024-06-05T19:47:04.148501Z"
    }
   },
   "cell_type": "code",
   "source": "",
   "id": "cac8970bc1212b55",
   "outputs": [],
   "execution_count": 8
  }
 ],
 "metadata": {
  "kernelspec": {
   "display_name": "Python 3",
   "language": "python",
   "name": "python3"
  },
  "language_info": {
   "codemirror_mode": {
    "name": "ipython",
    "version": 2
   },
   "file_extension": ".py",
   "mimetype": "text/x-python",
   "name": "python",
   "nbconvert_exporter": "python",
   "pygments_lexer": "ipython2",
   "version": "2.7.6"
  }
 },
 "nbformat": 4,
 "nbformat_minor": 5
}
