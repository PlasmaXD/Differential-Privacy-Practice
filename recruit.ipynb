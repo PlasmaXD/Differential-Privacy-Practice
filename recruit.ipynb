{
 "cells": [
  {
   "metadata": {},
   "cell_type": "markdown",
   "source": "記述統計へのDP適用",
   "id": "a34bd6ee72a08a45"
  },
  {
   "metadata": {
    "ExecuteTime": {
     "end_time": "2024-06-05T19:16:38.868465Z",
     "start_time": "2024-06-05T19:16:19.116508Z"
    }
   },
   "cell_type": "code",
   "source": "!pip install ja-ginza",
   "id": "78dfb12bd27e7532",
   "outputs": [
    {
     "name": "stdout",
     "output_type": "stream",
     "text": [
      "\u001B[33mDEPRECATION: Loading egg at /home/jun/anaconda3/lib/python3.11/site-packages/python_dlshogi2-0.0.0-py3.11.egg is deprecated. pip 24.3 will enforce this behaviour change. A possible replacement is to use pip for package installation.. Discussion can be found at https://github.com/pypa/pip/issues/12330\u001B[0m\u001B[33m\r\n",
      "\u001B[0mCollecting ja-ginza\r\n",
      "  Downloading ja_ginza-5.2.0-py3-none-any.whl.metadata (5.8 kB)\r\n",
      "Collecting spacy<4.0.0,>=3.4.4 (from ja-ginza)\r\n",
      "  Downloading spacy-3.7.5-cp311-cp311-manylinux_2_17_x86_64.manylinux2014_x86_64.whl.metadata (27 kB)\r\n",
      "Collecting sudachipy<0.7.0,>=0.6.2 (from ja-ginza)\r\n",
      "  Downloading SudachiPy-0.6.8-cp311-cp311-manylinux_2_17_x86_64.manylinux2014_x86_64.whl.metadata (12 kB)\r\n",
      "Collecting sudachidict-core>=20210802 (from ja-ginza)\r\n",
      "  Downloading SudachiDict_core-20240409-py3-none-any.whl.metadata (2.5 kB)\r\n",
      "Collecting ginza<5.3.0,>=5.2.0 (from ja-ginza)\r\n",
      "  Downloading ginza-5.2.0-py3-none-any.whl.metadata (448 bytes)\r\n",
      "Collecting plac>=1.3.3 (from ginza<5.3.0,>=5.2.0->ja-ginza)\r\n",
      "  Downloading plac-1.4.3-py2.py3-none-any.whl.metadata (5.9 kB)\r\n",
      "Collecting spacy-legacy<3.1.0,>=3.0.11 (from spacy<4.0.0,>=3.4.4->ja-ginza)\r\n",
      "  Downloading spacy_legacy-3.0.12-py2.py3-none-any.whl.metadata (2.8 kB)\r\n",
      "Collecting spacy-loggers<2.0.0,>=1.0.0 (from spacy<4.0.0,>=3.4.4->ja-ginza)\r\n",
      "  Downloading spacy_loggers-1.0.5-py3-none-any.whl.metadata (23 kB)\r\n",
      "Collecting murmurhash<1.1.0,>=0.28.0 (from spacy<4.0.0,>=3.4.4->ja-ginza)\r\n",
      "  Downloading murmurhash-1.0.10-cp311-cp311-manylinux_2_5_x86_64.manylinux1_x86_64.manylinux_2_17_x86_64.manylinux2014_x86_64.whl.metadata (2.0 kB)\r\n",
      "Collecting cymem<2.1.0,>=2.0.2 (from spacy<4.0.0,>=3.4.4->ja-ginza)\r\n",
      "  Downloading cymem-2.0.8-cp311-cp311-manylinux_2_17_x86_64.manylinux2014_x86_64.whl.metadata (8.4 kB)\r\n",
      "Collecting preshed<3.1.0,>=3.0.2 (from spacy<4.0.0,>=3.4.4->ja-ginza)\r\n",
      "  Downloading preshed-3.0.9-cp311-cp311-manylinux_2_5_x86_64.manylinux1_x86_64.manylinux_2_17_x86_64.manylinux2014_x86_64.whl.metadata (2.2 kB)\r\n",
      "Collecting thinc<8.3.0,>=8.2.2 (from spacy<4.0.0,>=3.4.4->ja-ginza)\r\n",
      "  Downloading thinc-8.2.4-cp311-cp311-manylinux_2_17_x86_64.manylinux2014_x86_64.whl.metadata (15 kB)\r\n",
      "Collecting wasabi<1.2.0,>=0.9.1 (from spacy<4.0.0,>=3.4.4->ja-ginza)\r\n",
      "  Downloading wasabi-1.1.3-py3-none-any.whl.metadata (28 kB)\r\n",
      "Collecting srsly<3.0.0,>=2.4.3 (from spacy<4.0.0,>=3.4.4->ja-ginza)\r\n",
      "  Downloading srsly-2.4.8-cp311-cp311-manylinux_2_17_x86_64.manylinux2014_x86_64.whl.metadata (20 kB)\r\n",
      "Collecting catalogue<2.1.0,>=2.0.6 (from spacy<4.0.0,>=3.4.4->ja-ginza)\r\n",
      "  Downloading catalogue-2.0.10-py3-none-any.whl.metadata (14 kB)\r\n",
      "Collecting weasel<0.5.0,>=0.1.0 (from spacy<4.0.0,>=3.4.4->ja-ginza)\r\n",
      "  Downloading weasel-0.4.1-py3-none-any.whl.metadata (4.6 kB)\r\n",
      "Requirement already satisfied: typer<1.0.0,>=0.3.0 in /home/jun/anaconda3/lib/python3.11/site-packages (from spacy<4.0.0,>=3.4.4->ja-ginza) (0.12.3)\r\n",
      "Requirement already satisfied: tqdm<5.0.0,>=4.38.0 in /home/jun/anaconda3/lib/python3.11/site-packages (from spacy<4.0.0,>=3.4.4->ja-ginza) (4.66.2)\r\n",
      "Requirement already satisfied: requests<3.0.0,>=2.13.0 in /home/jun/anaconda3/lib/python3.11/site-packages (from spacy<4.0.0,>=3.4.4->ja-ginza) (2.31.0)\r\n",
      "Requirement already satisfied: pydantic!=1.8,!=1.8.1,<3.0.0,>=1.7.4 in /home/jun/anaconda3/lib/python3.11/site-packages (from spacy<4.0.0,>=3.4.4->ja-ginza) (2.7.1)\r\n",
      "Requirement already satisfied: jinja2 in /home/jun/anaconda3/lib/python3.11/site-packages (from spacy<4.0.0,>=3.4.4->ja-ginza) (3.1.3)\r\n",
      "Requirement already satisfied: setuptools in /home/jun/anaconda3/lib/python3.11/site-packages (from spacy<4.0.0,>=3.4.4->ja-ginza) (69.5.1)\r\n",
      "Requirement already satisfied: packaging>=20.0 in /home/jun/anaconda3/lib/python3.11/site-packages (from spacy<4.0.0,>=3.4.4->ja-ginza) (23.1)\r\n",
      "Collecting langcodes<4.0.0,>=3.2.0 (from spacy<4.0.0,>=3.4.4->ja-ginza)\r\n",
      "  Downloading langcodes-3.4.0-py3-none-any.whl.metadata (29 kB)\r\n",
      "Requirement already satisfied: numpy>=1.19.0 in /home/jun/anaconda3/lib/python3.11/site-packages (from spacy<4.0.0,>=3.4.4->ja-ginza) (1.26.4)\r\n",
      "Collecting language-data>=1.2 (from langcodes<4.0.0,>=3.2.0->spacy<4.0.0,>=3.4.4->ja-ginza)\r\n",
      "  Downloading language_data-1.2.0-py3-none-any.whl.metadata (4.3 kB)\r\n",
      "Requirement already satisfied: annotated-types>=0.4.0 in /home/jun/anaconda3/lib/python3.11/site-packages (from pydantic!=1.8,!=1.8.1,<3.0.0,>=1.7.4->spacy<4.0.0,>=3.4.4->ja-ginza) (0.6.0)\r\n",
      "Requirement already satisfied: pydantic-core==2.18.2 in /home/jun/anaconda3/lib/python3.11/site-packages (from pydantic!=1.8,!=1.8.1,<3.0.0,>=1.7.4->spacy<4.0.0,>=3.4.4->ja-ginza) (2.18.2)\r\n",
      "Requirement already satisfied: typing-extensions>=4.6.1 in /home/jun/anaconda3/lib/python3.11/site-packages (from pydantic!=1.8,!=1.8.1,<3.0.0,>=1.7.4->spacy<4.0.0,>=3.4.4->ja-ginza) (4.11.0)\r\n",
      "Requirement already satisfied: charset-normalizer<4,>=2 in /home/jun/anaconda3/lib/python3.11/site-packages (from requests<3.0.0,>=2.13.0->spacy<4.0.0,>=3.4.4->ja-ginza) (2.0.4)\r\n",
      "Requirement already satisfied: idna<4,>=2.5 in /home/jun/anaconda3/lib/python3.11/site-packages (from requests<3.0.0,>=2.13.0->spacy<4.0.0,>=3.4.4->ja-ginza) (3.4)\r\n",
      "Requirement already satisfied: urllib3<3,>=1.21.1 in /home/jun/anaconda3/lib/python3.11/site-packages (from requests<3.0.0,>=2.13.0->spacy<4.0.0,>=3.4.4->ja-ginza) (2.2.1)\r\n",
      "Requirement already satisfied: certifi>=2017.4.17 in /home/jun/anaconda3/lib/python3.11/site-packages (from requests<3.0.0,>=2.13.0->spacy<4.0.0,>=3.4.4->ja-ginza) (2024.2.2)\r\n",
      "Collecting blis<0.8.0,>=0.7.8 (from thinc<8.3.0,>=8.2.2->spacy<4.0.0,>=3.4.4->ja-ginza)\r\n",
      "  Downloading blis-0.7.11-cp311-cp311-manylinux_2_17_x86_64.manylinux2014_x86_64.whl.metadata (7.4 kB)\r\n",
      "Collecting confection<1.0.0,>=0.0.1 (from thinc<8.3.0,>=8.2.2->spacy<4.0.0,>=3.4.4->ja-ginza)\r\n",
      "  Downloading confection-0.1.5-py3-none-any.whl.metadata (19 kB)\r\n",
      "Requirement already satisfied: click>=8.0.0 in /home/jun/anaconda3/lib/python3.11/site-packages (from typer<1.0.0,>=0.3.0->spacy<4.0.0,>=3.4.4->ja-ginza) (8.1.7)\r\n",
      "Requirement already satisfied: shellingham>=1.3.0 in /home/jun/anaconda3/lib/python3.11/site-packages (from typer<1.0.0,>=0.3.0->spacy<4.0.0,>=3.4.4->ja-ginza) (1.5.4)\r\n",
      "Requirement already satisfied: rich>=10.11.0 in /home/jun/anaconda3/lib/python3.11/site-packages (from typer<1.0.0,>=0.3.0->spacy<4.0.0,>=3.4.4->ja-ginza) (13.3.5)\r\n",
      "Collecting cloudpathlib<1.0.0,>=0.7.0 (from weasel<0.5.0,>=0.1.0->spacy<4.0.0,>=3.4.4->ja-ginza)\r\n",
      "  Downloading cloudpathlib-0.18.1-py3-none-any.whl.metadata (14 kB)\r\n",
      "Requirement already satisfied: smart-open<8.0.0,>=5.2.1 in /home/jun/anaconda3/lib/python3.11/site-packages (from weasel<0.5.0,>=0.1.0->spacy<4.0.0,>=3.4.4->ja-ginza) (5.2.1)\r\n",
      "Requirement already satisfied: MarkupSafe>=2.0 in /home/jun/anaconda3/lib/python3.11/site-packages (from jinja2->spacy<4.0.0,>=3.4.4->ja-ginza) (2.1.5)\r\n",
      "Collecting marisa-trie>=0.7.7 (from language-data>=1.2->langcodes<4.0.0,>=3.2.0->spacy<4.0.0,>=3.4.4->ja-ginza)\r\n",
      "  Downloading marisa_trie-1.1.1-cp311-cp311-manylinux_2_17_x86_64.manylinux2014_x86_64.whl.metadata (8.6 kB)\r\n",
      "Requirement already satisfied: markdown-it-py<3.0.0,>=2.2.0 in /home/jun/anaconda3/lib/python3.11/site-packages (from rich>=10.11.0->typer<1.0.0,>=0.3.0->spacy<4.0.0,>=3.4.4->ja-ginza) (2.2.0)\r\n",
      "Requirement already satisfied: pygments<3.0.0,>=2.13.0 in /home/jun/anaconda3/lib/python3.11/site-packages (from rich>=10.11.0->typer<1.0.0,>=0.3.0->spacy<4.0.0,>=3.4.4->ja-ginza) (2.17.2)\r\n",
      "Requirement already satisfied: mdurl~=0.1 in /home/jun/anaconda3/lib/python3.11/site-packages (from markdown-it-py<3.0.0,>=2.2.0->rich>=10.11.0->typer<1.0.0,>=0.3.0->spacy<4.0.0,>=3.4.4->ja-ginza) (0.1.2)\r\n",
      "Downloading ja_ginza-5.2.0-py3-none-any.whl (59.1 MB)\r\n",
      "\u001B[2K   \u001B[90m━━━━━━━━━━━━━━━━━━━━━━━━━━━━━━━━━━━━━━━━\u001B[0m \u001B[32m59.1/59.1 MB\u001B[0m \u001B[31m56.8 MB/s\u001B[0m eta \u001B[36m0:00:00\u001B[0m:00:01\u001B[0m00:01\u001B[0m\r\n",
      "\u001B[?25hDownloading ginza-5.2.0-py3-none-any.whl (21 kB)\r\n",
      "Downloading spacy-3.7.5-cp311-cp311-manylinux_2_17_x86_64.manylinux2014_x86_64.whl (6.6 MB)\r\n",
      "\u001B[2K   \u001B[90m━━━━━━━━━━━━━━━━━━━━━━━━━━━━━━━━━━━━━━━━\u001B[0m \u001B[32m6.6/6.6 MB\u001B[0m \u001B[31m92.5 MB/s\u001B[0m eta \u001B[36m0:00:00\u001B[0m:00:01\u001B[0m00:01\u001B[0m\r\n",
      "\u001B[?25hDownloading SudachiDict_core-20240409-py3-none-any.whl (72.0 MB)\r\n",
      "\u001B[2K   \u001B[90m━━━━━━━━━━━━━━━━━━━━━━━━━━━━━━━━━━━━━━━━\u001B[0m \u001B[32m72.0/72.0 MB\u001B[0m \u001B[31m29.7 MB/s\u001B[0m eta \u001B[36m0:00:00\u001B[0m00:01\u001B[0m00:01\u001B[0mm\r\n",
      "\u001B[?25hDownloading SudachiPy-0.6.8-cp311-cp311-manylinux_2_17_x86_64.manylinux2014_x86_64.whl (2.6 MB)\r\n",
      "\u001B[2K   \u001B[90m━━━━━━━━━━━━━━━━━━━━━━━━━━━━━━━━━━━━━━━━\u001B[0m \u001B[32m2.6/2.6 MB\u001B[0m \u001B[31m81.6 MB/s\u001B[0m eta \u001B[36m0:00:00\u001B[0m\r\n",
      "\u001B[?25hDownloading catalogue-2.0.10-py3-none-any.whl (17 kB)\r\n",
      "Downloading cymem-2.0.8-cp311-cp311-manylinux_2_17_x86_64.manylinux2014_x86_64.whl (46 kB)\r\n",
      "\u001B[2K   \u001B[90m━━━━━━━━━━━━━━━━━━━━━━━━━━━━━━━━━━━━━━━━\u001B[0m \u001B[32m46.3/46.3 kB\u001B[0m \u001B[31m9.9 MB/s\u001B[0m eta \u001B[36m0:00:00\u001B[0m\r\n",
      "\u001B[?25hDownloading langcodes-3.4.0-py3-none-any.whl (182 kB)\r\n",
      "\u001B[2K   \u001B[90m━━━━━━━━━━━━━━━━━━━━━━━━━━━━━━━━━━━━━━━━\u001B[0m \u001B[32m182.0/182.0 kB\u001B[0m \u001B[31m22.5 MB/s\u001B[0m eta \u001B[36m0:00:00\u001B[0m\r\n",
      "\u001B[?25hDownloading murmurhash-1.0.10-cp311-cp311-manylinux_2_5_x86_64.manylinux1_x86_64.manylinux_2_17_x86_64.manylinux2014_x86_64.whl (29 kB)\r\n",
      "Downloading plac-1.4.3-py2.py3-none-any.whl (22 kB)\r\n",
      "Downloading preshed-3.0.9-cp311-cp311-manylinux_2_5_x86_64.manylinux1_x86_64.manylinux_2_17_x86_64.manylinux2014_x86_64.whl (157 kB)\r\n",
      "\u001B[2K   \u001B[90m━━━━━━━━━━━━━━━━━━━━━━━━━━━━━━━━━━━━━━━━\u001B[0m \u001B[32m157.2/157.2 kB\u001B[0m \u001B[31m19.8 MB/s\u001B[0m eta \u001B[36m0:00:00\u001B[0m\r\n",
      "\u001B[?25hDownloading spacy_legacy-3.0.12-py2.py3-none-any.whl (29 kB)\r\n",
      "Downloading spacy_loggers-1.0.5-py3-none-any.whl (22 kB)\r\n",
      "Downloading srsly-2.4.8-cp311-cp311-manylinux_2_17_x86_64.manylinux2014_x86_64.whl (490 kB)\r\n",
      "\u001B[2K   \u001B[90m━━━━━━━━━━━━━━━━━━━━━━━━━━━━━━━━━━━━━━━━\u001B[0m \u001B[32m490.9/490.9 kB\u001B[0m \u001B[31m68.4 MB/s\u001B[0m eta \u001B[36m0:00:00\u001B[0m\r\n",
      "\u001B[?25hDownloading thinc-8.2.4-cp311-cp311-manylinux_2_17_x86_64.manylinux2014_x86_64.whl (920 kB)\r\n",
      "\u001B[2K   \u001B[90m━━━━━━━━━━━━━━━━━━━━━━━━━━━━━━━━━━━━━━━━\u001B[0m \u001B[32m920.1/920.1 kB\u001B[0m \u001B[31m75.6 MB/s\u001B[0m eta \u001B[36m0:00:00\u001B[0m\r\n",
      "\u001B[?25hDownloading wasabi-1.1.3-py3-none-any.whl (27 kB)\r\n",
      "Downloading weasel-0.4.1-py3-none-any.whl (50 kB)\r\n",
      "\u001B[2K   \u001B[90m━━━━━━━━━━━━━━━━━━━━━━━━━━━━━━━━━━━━━━━━\u001B[0m \u001B[32m50.3/50.3 kB\u001B[0m \u001B[31m11.4 MB/s\u001B[0m eta \u001B[36m0:00:00\u001B[0m\r\n",
      "\u001B[?25hDownloading blis-0.7.11-cp311-cp311-manylinux_2_17_x86_64.manylinux2014_x86_64.whl (10.2 MB)\r\n",
      "\u001B[2K   \u001B[90m━━━━━━━━━━━━━━━━━━━━━━━━━━━━━━━━━━━━━━━━\u001B[0m \u001B[32m10.2/10.2 MB\u001B[0m \u001B[31m66.9 MB/s\u001B[0m eta \u001B[36m0:00:00\u001B[0m00:01\u001B[0m0:01\u001B[0m\r\n",
      "\u001B[?25hDownloading cloudpathlib-0.18.1-py3-none-any.whl (47 kB)\r\n",
      "\u001B[2K   \u001B[90m━━━━━━━━━━━━━━━━━━━━━━━━━━━━━━━━━━━━━━━━\u001B[0m \u001B[32m47.3/47.3 kB\u001B[0m \u001B[31m10.7 MB/s\u001B[0m eta \u001B[36m0:00:00\u001B[0m\r\n",
      "\u001B[?25hDownloading confection-0.1.5-py3-none-any.whl (35 kB)\r\n",
      "Downloading language_data-1.2.0-py3-none-any.whl (5.4 MB)\r\n",
      "\u001B[2K   \u001B[90m━━━━━━━━━━━━━━━━━━━━━━━━━━━━━━━━━━━━━━━━\u001B[0m \u001B[32m5.4/5.4 MB\u001B[0m \u001B[31m90.1 MB/s\u001B[0m eta \u001B[36m0:00:00\u001B[0mta \u001B[36m0:00:01\u001B[0m\r\n",
      "\u001B[?25hDownloading marisa_trie-1.1.1-cp311-cp311-manylinux_2_17_x86_64.manylinux2014_x86_64.whl (1.4 MB)\r\n",
      "\u001B[2K   \u001B[90m━━━━━━━━━━━━━━━━━━━━━━━━━━━━━━━━━━━━━━━━\u001B[0m \u001B[32m1.4/1.4 MB\u001B[0m \u001B[31m81.1 MB/s\u001B[0m eta \u001B[36m0:00:00\u001B[0m\r\n",
      "\u001B[?25hInstalling collected packages: sudachipy, plac, cymem, wasabi, sudachidict-core, spacy-loggers, spacy-legacy, murmurhash, marisa-trie, cloudpathlib, catalogue, blis, srsly, preshed, language-data, langcodes, confection, weasel, thinc, spacy, ginza, ja-ginza\r\n",
      "Successfully installed blis-0.7.11 catalogue-2.0.10 cloudpathlib-0.18.1 confection-0.1.5 cymem-2.0.8 ginza-5.2.0 ja-ginza-5.2.0 langcodes-3.4.0 language-data-1.2.0 marisa-trie-1.1.1 murmurhash-1.0.10 plac-1.4.3 preshed-3.0.9 spacy-3.7.5 spacy-legacy-3.0.12 spacy-loggers-1.0.5 srsly-2.4.8 sudachidict-core-20240409 sudachipy-0.6.8 thinc-8.2.4 wasabi-1.1.3 weasel-0.4.1\r\n"
     ]
    }
   ],
   "execution_count": 1
  },
  {
   "metadata": {
    "ExecuteTime": {
     "end_time": "2024-06-05T19:19:26.767502Z",
     "start_time": "2024-06-05T19:19:26.762462Z"
    }
   },
   "cell_type": "code",
   "source": [
    "import pandas as pd\n",
    "data_path = &quot;&lt;YOUR&gt;/&lt;PATH&gt;/&lt;TO&gt;/reviews.csv&quot;\n",
    "df = pd.read_csv(data_path)\n",
    "df"
   ],
   "id": "bbf2b96b56f55b18",
   "outputs": [
    {
     "ename": "SyntaxError",
     "evalue": "invalid syntax (3352931061.py, line 2)",
     "output_type": "error",
     "traceback": [
      "\u001B[0;36m  Cell \u001B[0;32mIn[2], line 2\u001B[0;36m\u001B[0m\n\u001B[0;31m    data_path = &quot;&lt;YOUR&gt;/&lt;PATH&gt;/&lt;TO&gt;/reviews.csv&quot;\u001B[0m\n\u001B[0m                ^\u001B[0m\n\u001B[0;31mSyntaxError\u001B[0m\u001B[0;31m:\u001B[0m invalid syntax\n"
     ]
    }
   ],
   "execution_count": 2
  },
  {
   "metadata": {},
   "cell_type": "code",
   "source": [
    "from sklearn.feature_extraction.text import CountVectorizer\n",
    "import itertools\n",
    "import spacy\n",
    "from typing import List, Tuple\n",
    "nlp = spacy.load('ja_ginza')\n",
    "POS = ['ADJ', 'ADV', 'INTJ', 'PROPN', 'NOUN', 'VERB']\n",
    "MAX_TERMS_IN_DOC = 5\n",
    "NGRAM=1\n",
    "MAX_DF=1.0\n",
    "MIN_DF=0.0\n",
    "NUM_VOCAB=10000\n",
    "def flatten(*lists) -&gt; list:\n",
    "  res = []\n",
    "  for l in list(itertools.chain.from_iterable(lists)):\n",
    "    for e in l:\n",
    "      res.append(e)\n",
    "  return res\n",
    "def remove_duplicates(l: List[Tuple[str, float]]) -&gt; List[Tuple[str, float]]:\n",
    "  d = {}\n",
    "  for e in l:\n",
    "    d[e[0]] = e[1]\n",
    "  return list(d.items())\n",
    "df[&quot;doc&quot;] = [nlp(review) for review in df[&quot;review&quot;]]\n",
    "bows = {}\n",
    "cvs = {}\n",
    "for sentiment in df[&quot;sentiment&quot;].unique():\n",
    "  tokens = []\n",
    "  for doc in df[df[&quot;sentiment&quot;] == sentiment][&quot;doc&quot;]:\n",
    "    similarities = [(token.similarity(doc), token.lemma_) for token in doc if token.pos_ in POS]\n",
    "    similarities = remove_duplicates(similarities)\n",
    "    similarities = sorted(similarities, key=lambda sim: sim[1], reverse=True)[:MAX_TERMS_IN_DOC]\n",
    "    tokens.append([similaritity[1] for similaritity in similarities])\n",
    "  cv = CountVectorizer(ngram_range=(1,NGRAM), max_df=MAX_DF, min_df=MIN_DF, max_features=NUM_VOCAB)\n",
    "  bows[sentiment] = cv.fit_transform(flatten(tokens)).toarray()\n",
    "  cvs[sentiment] = cv"
   ],
   "id": "e2e38a5248fa006c",
   "outputs": [],
   "execution_count": null
  },
  {
   "metadata": {
    "ExecuteTime": {
     "end_time": "2024-06-05T19:51:34.270812Z",
     "start_time": "2024-06-05T19:51:34.266731Z"
    }
   },
   "cell_type": "code",
   "source": [
    "\n",
    "TOP_K = 20\n",
    "vocabs = {}\n",
    "term_fequencies = {}\n",
    "for sentiment in df[&quot;sentiment&quot;].unique():\n",
    "  bow = bows[sentiment]\n",
    "  cv = cvs[sentiment]\n",
    "  vocab  = cv.vocabulary_\n",
    "  term_fequency = np.sum(bow, axis=0)\n",
    "  vocabs[sentiment] = vocab\n",
    "  term_fequencies[sentiment] = term_fequency\n",
    "  indices_topk = np.argsort(term_fequency)[::-1][:TOP_K]\n",
    "  bow_topk = np.take(bow, indices_topk, axis=1)\n",
    "  reverse_vocab = { vocab[k]:k for k in vocab.keys() }\n",
    "  words = [reverse_vocab[i] for i in indices_topk]\n",
    "  print(sentiment, &quot;:&quot;)\n",
    "  for w, c in zip(words, term_fequency[indices_topk]):\n",
    "    print(w, &quot;:&quot;, c)"
   ],
   "id": "d579e830155dccbc",
   "outputs": [
    {
     "ename": "SyntaxError",
     "evalue": "invalid syntax (3888486911.py, line 4)",
     "output_type": "error",
     "traceback": [
      "\u001B[0;36m  Cell \u001B[0;32mIn[4], line 4\u001B[0;36m\u001B[0m\n\u001B[0;31m    for sentiment in df[&quot;sentiment&quot;].unique():\u001B[0m\n\u001B[0m                        ^\u001B[0m\n\u001B[0;31mSyntaxError\u001B[0m\u001B[0;31m:\u001B[0m invalid syntax\n"
     ]
    }
   ],
   "execution_count": 4
  }
 ],
 "metadata": {
  "kernelspec": {
   "display_name": "Python 3",
   "language": "python",
   "name": "python3"
  },
  "language_info": {
   "codemirror_mode": {
    "name": "ipython",
    "version": 2
   },
   "file_extension": ".py",
   "mimetype": "text/x-python",
   "name": "python",
   "nbconvert_exporter": "python",
   "pygments_lexer": "ipython2",
   "version": "2.7.6"
  }
 },
 "nbformat": 4,
 "nbformat_minor": 5
}
